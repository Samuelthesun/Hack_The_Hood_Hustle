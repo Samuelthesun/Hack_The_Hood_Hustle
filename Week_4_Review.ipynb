{
  "nbformat": 4,
  "nbformat_minor": 0,
  "metadata": {
    "colab": {
      "provenance": [],
      "authorship_tag": "ABX9TyMd4NPiQAq/NoQ8DZ56q9I0",
      "include_colab_link": true
    },
    "kernelspec": {
      "name": "python3",
      "display_name": "Python 3"
    },
    "language_info": {
      "name": "python"
    }
  },
  "cells": [
    {
      "cell_type": "markdown",
      "metadata": {
        "id": "view-in-github",
        "colab_type": "text"
      },
      "source": [
        "<a href=\"https://colab.research.google.com/github/Samuelthesun/Hack_The_Hood_Hustle/blob/main/Week_4_Review.ipynb\" target=\"_parent\"><img src=\"https://colab.research.google.com/assets/colab-badge.svg\" alt=\"Open In Colab\"/></a>"
      ]
    },
    {
      "cell_type": "markdown",
      "source": [
        "# Lists"
      ],
      "metadata": {
        "id": "dbx9F_AHKgUd"
      }
    },
    {
      "cell_type": "code",
      "execution_count": 1,
      "metadata": {
        "colab": {
          "base_uri": "https://localhost:8080/"
        },
        "id": "9nUI26jPKGdK",
        "outputId": "23482e0c-6de4-44dd-adc4-f08adf5b3855"
      },
      "outputs": [
        {
          "output_type": "stream",
          "name": "stdout",
          "text": [
            "['apple', 'eggs', 'meat']\n"
          ]
        }
      ],
      "source": [
        "# 1. Create a list and then print it, making sure to give it a descriptive variable name:\n",
        "\n",
        "food = [\"apple\",\"eggs\",\"meat\"]\n",
        "print(food)"
      ]
    },
    {
      "cell_type": "code",
      "source": [
        "# 2. Index practice with this list\n",
        "\n",
        "rainbow_colors = ['red', 'orange', 'yellow', 'green', 'blue', 'indigo', 'violet']\n",
        "\n",
        "# 2a. Print the third color through indexing\n",
        "\n",
        "print(rainbow_colors[2])\n",
        "\n",
        "# 2b. Print the last color through indexing\n",
        "\n",
        "print(rainbow_colors[6])\n",
        "\n",
        "# 2c. Print the first three colors through indexing\n",
        "\n",
        "print(rainbow_colors[0:3])\n",
        "print(rainbow_colors[3:7])\n",
        "# 2d. Set up the print statement so the output is: green  violet  orange\n",
        "print(rainbow_colors[3],rainbow_colors[-2],rainbow_colors[1])\n",
        "\n",
        "fruits = [\n",
        "    \"Apple\", \"Banana\", \"Orange\", \"Grape\", \"Pineapple\",\n",
        "    \"Strawberry\", \"Blueberry\", \"Raspberry\", \"Mango\", \"Peach\",\n",
        "    \"Cherry\", \"Watermelon\", \"Cantaloupe\", \"Honeydew\", \"Kiwi\",\n",
        "    \"Papaya\", \"Plum\", \"Pomegranate\", \"Lychee\", \"Dragonfruit\",\n",
        "    \"Passionfruit\", \"Fig\", \"Guava\"\n",
        "]\n",
        "\n",
        "#3 Print out the following statement by indexing\n",
        "# and concatenating the elements of list to be:\n",
        "# \"I would like to buy Passionfruit, Fig, and Guava\"\n",
        "print(fruits[-3],fruits[-2],fruits[-1])\n",
        "print(\"I would like to buy \" + fruits[-3] +\",\",fruits[-2],\",\",\"and\",fruits[-1])\n",
        "\n",
        "# Print out the length of the fruits list\n",
        "len(fruits)"
      ],
      "metadata": {
        "colab": {
          "base_uri": "https://localhost:8080/"
        },
        "id": "kp-rfI_BLF4A",
        "outputId": "0f4f5263-5f3f-4224-f0fb-3ab3e8d3a779"
      },
      "execution_count": 35,
      "outputs": [
        {
          "output_type": "stream",
          "name": "stdout",
          "text": [
            "yellow\n",
            "violet\n",
            "['red', 'orange', 'yellow']\n",
            "['green', 'blue', 'indigo', 'violet']\n",
            "green indigo orange\n",
            "Passionfruit Fig Guava\n",
            "I would like to buy Passionfruit, Fig , and Guava\n"
          ]
        },
        {
          "output_type": "execute_result",
          "data": {
            "text/plain": [
              "23"
            ]
          },
          "metadata": {},
          "execution_count": 35
        }
      ]
    },
    {
      "cell_type": "code",
      "source": [],
      "metadata": {
        "id": "zFhdcygvQNxS"
      },
      "execution_count": null,
      "outputs": []
    },
    {
      "cell_type": "markdown",
      "source": [
        "# Inputs"
      ],
      "metadata": {
        "id": "ewObTj8yQ8FS"
      }
    },
    {
      "cell_type": "code",
      "source": [
        "# Step 1: Get the user's name as input\n",
        "\n",
        "full_name = input(\"Enter your full name here\")\n",
        "print(\"hi \" + full_name)\n"
      ],
      "metadata": {
        "colab": {
          "base_uri": "https://localhost:8080/"
        },
        "id": "X1JhYceFRAHB",
        "outputId": "5f867614-f990-4153-87f6-85ae5738f6dc"
      },
      "execution_count": 42,
      "outputs": [
        {
          "output_type": "stream",
          "name": "stdout",
          "text": [
            "Enter your full name here hello\n",
            "hi  hello\n"
          ]
        }
      ]
    },
    {
      "cell_type": "code",
      "source": [
        "# Step 2: Get the user's age as input and convert it to an integer\n",
        "\n",
        "users_age = input(\"what is your age\")\n",
        "users_age = int(users_age)\n",
        "\n",
        "print(\"you are\", str(users_age), \"years old\")\n",
        "\n",
        "# Step 3: Calculate the user's age in 5 years\n",
        "\n",
        "future_age = users_age + 5\n",
        "\n",
        "print(\"You will be \" + str(future_age) + \" years old in 5 years.\")\n",
        "\n",
        "# Step 5: Introduce f-strings for cleaner output\n",
        "\n",
        "print(f\"Hey! You are {users_age} years old\")\n",
        "print(f\"In the next 5 years you will be {future_age} years old\")"
      ],
      "metadata": {
        "colab": {
          "base_uri": "https://localhost:8080/"
        },
        "id": "CfHwzGeQRqPs",
        "outputId": "0296a6fd-6e64-488d-bd3e-4c95ace29758"
      },
      "execution_count": 54,
      "outputs": [
        {
          "output_type": "stream",
          "name": "stdout",
          "text": [
            "what is your age 15\n",
            "you are 15 years old\n",
            "You will be 20 years old in 5 years.\n",
            "Hey! You are 15 years old\n",
            "In the next 5 years you will be 20 years old\n"
          ]
        }
      ]
    },
    {
      "cell_type": "markdown",
      "source": [
        "# Conditionals with Operators"
      ],
      "metadata": {
        "id": "h7LWwCxYZ5-c"
      }
    },
    {
      "cell_type": "code",
      "source": [
        "# Step 1: Simple if statement with arithmetic operators\n",
        "age = int(input(\"Please enter your age: \"))\n",
        "\n",
        "age_in_4_years = age + 4\n",
        "if age_in_4_years >= 18:\n",
        "  print(\"GO VOTE\")\n",
        "else:\n",
        " print(\"YOU CANNOT VOTE\")"
      ],
      "metadata": {
        "colab": {
          "base_uri": "https://localhost:8080/"
        },
        "id": "NcdI0-u5Z-I5",
        "outputId": "afe61fa3-ce85-407f-8312-2de1e40eb8ee"
      },
      "execution_count": 61,
      "outputs": [
        {
          "output_type": "stream",
          "name": "stdout",
          "text": [
            "Please enter your age: 2\n",
            "you cannot vote\n"
          ]
        }
      ]
    },
    {
      "cell_type": "code",
      "source": [
        "# Step 3: Using membership operators to check membership in a list\n",
        "fruit_craving = input(\"What fruit would you like to buy: \")\n",
        "fruits_store = [\"apple\", \"banana\", \"orange\", \"grape\", \"pineapple\"]\n",
        "\n",
        "if fruit_craving.lower() in fruits_store:\n",
        "  print(f\"{fruit_craving.capitalize()} is in the store!\")\n",
        "else:\n",
        "  print(f\"{fruit_craving.capitalize()} is not in the store, unfortunately\")"
      ],
      "metadata": {
        "colab": {
          "base_uri": "https://localhost:8080/"
        },
        "id": "CU-SlMkEbmPI",
        "outputId": "e189aa03-99d7-4ef4-f2f1-1cae31264ff5"
      },
      "execution_count": 66,
      "outputs": [
        {
          "output_type": "stream",
          "name": "stdout",
          "text": [
            "What fruit would you like to buy: Apple\n",
            "Apple is in the store!\n"
          ]
        }
      ]
    },
    {
      "cell_type": "code",
      "source": [],
      "metadata": {
        "id": "9qjgid38dcPa"
      },
      "execution_count": null,
      "outputs": []
    }
  ]
}