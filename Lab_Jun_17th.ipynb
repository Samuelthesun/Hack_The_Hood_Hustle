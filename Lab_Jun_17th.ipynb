{
  "nbformat": 4,
  "nbformat_minor": 0,
  "metadata": {
    "colab": {
      "provenance": [],
      "authorship_tag": "ABX9TyNJRSPl1qVy2gSqf/5XBunn",
      "include_colab_link": true
    },
    "kernelspec": {
      "name": "python3",
      "display_name": "Python 3"
    },
    "language_info": {
      "name": "python"
    }
  },
  "cells": [
    {
      "cell_type": "markdown",
      "metadata": {
        "id": "view-in-github",
        "colab_type": "text"
      },
      "source": [
        "<a href=\"https://colab.research.google.com/github/Samuelthesun/Hack_The_Hood_Hustle/blob/main/Lab_Jun_17th.ipynb\" target=\"_parent\"><img src=\"https://colab.research.google.com/assets/colab-badge.svg\" alt=\"Open In Colab\"/></a>"
      ]
    },
    {
      "cell_type": "markdown",
      "source": [
        "# Lab Jun. 17\n",
        "\n",
        "### Intro to Pseudo Code"
      ],
      "metadata": {
        "id": "j3BsnHy5xMLP"
      }
    },
    {
      "cell_type": "markdown",
      "source": [
        "# The rules to define variables\n",
        "### 1) Must start with a Letter or _Underscore\n",
        "### 2) Consists Of Letters, Numbers and Underscores But it will not starts with a Number\n",
        "### 3) Variable names are case sensitive"
      ],
      "metadata": {
        "id": "g_UhQyO3zNEW"
      }
    },
    {
      "cell_type": "code",
      "source": [
        "car = \"mercedes\"\n",
        "Car = \"audi\""
      ],
      "metadata": {
        "id": "m_eV1B4T0flI"
      },
      "execution_count": 8,
      "outputs": []
    },
    {
      "cell_type": "code",
      "source": [
        "print(car)"
      ],
      "metadata": {
        "colab": {
          "base_uri": "https://localhost:8080/"
        },
        "id": "0n7TK01o0l6e",
        "outputId": "59377d9b-5653-465a-942d-6006be295ca1"
      },
      "execution_count": 9,
      "outputs": [
        {
          "output_type": "stream",
          "name": "stdout",
          "text": [
            "mercedes\n"
          ]
        }
      ]
    },
    {
      "cell_type": "code",
      "source": [
        "print(Car)"
      ],
      "metadata": {
        "colab": {
          "base_uri": "https://localhost:8080/"
        },
        "id": "GkeQpMV-0uqU",
        "outputId": "95880f60-05f8-4d4a-f818-fc18be2df4d1"
      },
      "execution_count": 16,
      "outputs": [
        {
          "output_type": "stream",
          "name": "stdout",
          "text": [
            "audi\n"
          ]
        }
      ]
    },
    {
      "cell_type": "code",
      "source": [
        "### Psuedo code for my application\n",
        "I want to write a program that takes user input and prints it back to the screen.\n",
        "\n",
        "`First_name` the user's first name\n",
        "\n",
        "`Last_Name` the user's last name\n",
        "\n",
        "`Age` the user's age\n",
        "\n",
        "`Fav_Colour` the user's favourite colour\n",
        "\n",
        "`Fav_Sport` the user's favourite sport\n",
        "\n",
        "`Fav_Team` the user's favourite team\n",
        "\n",
        "use a 'built-in' process to take user's data.\n",
        "\n",
        "use a 'built-in' process to display user's data."
      ],
      "metadata": {
        "id": "NEAO3cKb0z6k"
      },
      "execution_count": 15,
      "outputs": []
    },
    {
      "cell_type": "code",
      "source": [
        "First_name = 'John'\n",
        "Last_Name = 'Connor'\n",
        "Age = 23\n",
        "Fav_Colour = 'Gray'\n",
        "Fav_Sport = 'Soccer'\n",
        "Fav_Team = 'Man U'"
      ],
      "metadata": {
        "id": "YY00GPvE2WDW"
      },
      "execution_count": 17,
      "outputs": []
    },
    {
      "cell_type": "code",
      "source": [
        "First_name = input('What is your first name? ')\n",
        " # in this line I am using the input method to ask the user's first name\n",
        "\n",
        "\n",
        "Last_Name = input('What is your last name? ')\n",
        "\n",
        "\n",
        "Age = input('What is your age? ')\n",
        "\n",
        "\n",
        "Fav_Colour = input('What is your favourite colour? ')\n",
        "\n",
        "\n",
        "Fav_Sport = input('What is your favourite sport? ')\n",
        "\n",
        "\n",
        "Fav_Team = input('What is your favourite team? ')"
      ],
      "metadata": {
        "colab": {
          "base_uri": "https://localhost:8080/"
        },
        "id": "KOhTkink4F_J",
        "outputId": "95089a77-3cf5-4293-b91d-c58344825290"
      },
      "execution_count": 25,
      "outputs": [
        {
          "name": "stdout",
          "output_type": "stream",
          "text": [
            "What is your first name? samuel\n",
            "What is your last name? sun\n",
            "What is your age? 15\n",
            "What is your favourite colour? blue\n",
            "What is your favourite sport? badminton\n",
            "What is your favourite team? idk\n"
          ]
        }
      ]
    },
    {
      "cell_type": "code",
      "source": [
        "print(f\"User first name is, {First_name}, last name is, {Last_Name}, age is, {Age},\\\n",
        " favourite colour is, {Fav_Colour}, favourite sport is, {Fav_Sport}, favourite team is, {Fav_Team}\")"
      ],
      "metadata": {
        "colab": {
          "base_uri": "https://localhost:8080/"
        },
        "id": "g9ONQjbb4gtQ",
        "outputId": "a79f667e-ea59-4a4c-abcf-2a56aef51d48"
      },
      "execution_count": 26,
      "outputs": [
        {
          "output_type": "stream",
          "name": "stdout",
          "text": [
            "User first name is, samuel, last name is, sun, age is, 15, favourite colour is, blue, favourite sport is, badminton, favourite team is, idk\n"
          ]
        }
      ]
    },
    {
      "cell_type": "code",
      "source": [],
      "metadata": {
        "id": "PRLCZhXr7cVn"
      },
      "execution_count": null,
      "outputs": []
    }
  ]
}