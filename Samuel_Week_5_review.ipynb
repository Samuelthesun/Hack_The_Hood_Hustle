{
  "nbformat": 4,
  "nbformat_minor": 0,
  "metadata": {
    "colab": {
      "provenance": [],
      "authorship_tag": "ABX9TyNowJ6/lAqxK+UARS4FVTgH",
      "include_colab_link": true
    },
    "kernelspec": {
      "name": "python3",
      "display_name": "Python 3"
    },
    "language_info": {
      "name": "python"
    }
  },
  "cells": [
    {
      "cell_type": "markdown",
      "metadata": {
        "id": "view-in-github",
        "colab_type": "text"
      },
      "source": [
        "<a href=\"https://colab.research.google.com/github/Samuelthesun/Hack_The_Hood_Hustle/blob/main/Samuel_Week_5_review.ipynb\" target=\"_parent\"><img src=\"https://colab.research.google.com/assets/colab-badge.svg\" alt=\"Open In Colab\"/></a>"
      ]
    },
    {
      "cell_type": "code",
      "execution_count": null,
      "metadata": {
        "id": "xDAMnOZjJLt3"
      },
      "outputs": [],
      "source": [
        "# pseudo code\n",
        "\n",
        "# This file will be a\n",
        "\n",
        "# we will go over some lists, indexing, if/elsif/else, conditionalsthen loops"
      ]
    },
    {
      "cell_type": "markdown",
      "source": [
        "# Data Types"
      ],
      "metadata": {
        "id": "oZO8oyFOKPB-"
      }
    },
    {
      "cell_type": "code",
      "source": [
        "# Make an integer variable and print it\n",
        "number = 10\n",
        "print(number)\n",
        "\n",
        " # Make a string variable and print it\n",
        "food: str = \"pizza\"\n",
        "print(food)\n",
        "\n",
        " # Make a two different boolean variables and print them\n",
        "hungry = True\n",
        "not_hungry = False\n",
        "print(hungry)\n",
        "print(not_hungry)\n",
        "\n",
        " # Make a float variable and print it\n",
        "num_float = 29.99\n",
        "print(num_float)\n",
        "\n",
        " # Add two integers and print it\n",
        "num_1 = 5\n",
        "num_2 = 3\n",
        "print(num_1 + num_2)\n",
        "\n",
        " # Subtract two floats and print it\n",
        "num_float_1 = 39.99\n",
        "num_float_2 = 19.99\n",
        "print(num_float_1 - num_float_2)\n",
        "\n",
        " # Put two strings together\n",
        "object: str = \"computer\"\n",
        "food: str = \"apple\"\n",
        "print(object + \" \" + food)\n",
        "\n"
      ],
      "metadata": {
        "colab": {
          "base_uri": "https://localhost:8080/"
        },
        "id": "C3e5KmjnKREi",
        "outputId": "839d3522-3b2b-448f-ae76-c03410f0ad75"
      },
      "execution_count": 17,
      "outputs": [
        {
          "output_type": "stream",
          "name": "stdout",
          "text": [
            "10\n",
            "pizza\n",
            "True\n",
            "False\n",
            "29.99\n",
            "8\n",
            "20.000000000000004\n",
            "computer apple\n"
          ]
        }
      ]
    },
    {
      "cell_type": "markdown",
      "source": [
        "# List"
      ],
      "metadata": {
        "id": "5rCx6piXO8VL"
      }
    },
    {
      "cell_type": "code",
      "source": [
        "# 1. Create a list and then print it, making sure to give it a descriptive variable name:\n",
        "games = [\"roblox\", \"valorant\", \"fortnite\", \"minecraft\"]\n",
        "print(games)\n",
        "# 2. Index practice with this list\n",
        "print(games [1])\n",
        "\n",
        "# 2a. Print the third color through indexing\n",
        "my_colors = ['green', 'blue', 'pink', 'acquamarine']\n",
        "print(my_colors[2])\n",
        "# 2b. Print the last color through indexing\n",
        "print(my_colors[3])\n",
        "\n",
        "# 2c. Print the first three colors through indexing\n",
        "print(my_colors[0:3])\n",
        "\n",
        "# 2d. Set up the print statement so the output is: green  violet  orange\n",
        "other_colors = ['green', 'violet', 'orange']\n",
        "print(other_colors)\n",
        "\n",
        "# 3 Length and string concatenating with this list:\n",
        "\n",
        "\n",
        "# 3a. Print out the length of the fruits list\n",
        "\n",
        "\n",
        "\n",
        "# 4. Print out the following statement by indexing\n",
        "# and concatenating the elements of list to be:\n",
        "# \"I would like to buy Passionfruit, Fig, and Guava\""
      ],
      "metadata": {
        "colab": {
          "base_uri": "https://localhost:8080/"
        },
        "id": "e-XhXLmXPGxg",
        "outputId": "42e84b3b-022a-49c6-830e-ee3cac8b0f32"
      },
      "execution_count": 29,
      "outputs": [
        {
          "output_type": "stream",
          "name": "stdout",
          "text": [
            "['roblox', 'valorant', 'fortnite', 'minecraft']\n",
            "valorant\n",
            "pink\n",
            "acquamarine\n",
            "['green', 'blue', 'pink']\n",
            "['green', 'violet', 'orange']\n"
          ]
        }
      ]
    },
    {
      "cell_type": "markdown",
      "source": [
        "# Conditonals"
      ],
      "metadata": {
        "id": "DJD6sADvR55U"
      }
    },
    {
      "cell_type": "code",
      "source": [
        "# step 1: Simple if statements with arithmitic operators\n",
        "# step 2: write an else statement if they are under age 18\n",
        "# step 3: add an elsif statement to check if they are going to be 18 in four years\n",
        "# tell them they can vote in four years\n",
        "age = 16\n",
        "\n",
        "if age >= 18:\n",
        "  print('you can vote')\n",
        "elif age + 4 >= 18:\n",
        "  print('you can vote in four years')\n",
        "else:\n",
        "  print('you cannot vote')\n",
        "\n",
        "# Step 3: using a membership operator to check membership in a list\n",
        "buy_fruits = input('what fruit would you like?')\n",
        "\n",
        "fruits = [\"apple\", \"banana\", \"orange\", \"grape\", \"pineapple\"]\n",
        "\n",
        "if buy_fruits.lower() in fruits:\n",
        "  print(f\"{buy_fruits.capitalize()} is in the list\")\n",
        "else:\n",
        "  print(f\"{buy_fruits.capitalize()} is not in the list\")\n",
        "\n",
        "# Step 4: logical opperators!!!\n",
        "\n",
        "# Mini Step 4.0: Handling Yes or No Input with Truthy or Falsey Outcome\n",
        "# We will get a yes or no input from the user and convert it to a boolean value\n",
        "\n",
        "# Get input from the user\n",
        "\n",
        "response_permission = input(\"Do you have permission to go on the field trip?\").lower()\n",
        "\n",
        "response_honor_student = input(\"Are you an honor student?\").lower()\n",
        "\n",
        "has_permission = (response_permission == \"yes\")\n",
        "\n",
        "has_honor = (response_honor_student == \"yes\")\n",
        "\n",
        "if has_permission and has_honor:\n",
        "  print(\"You can go on the field trip\")\n",
        "elif has_permission or has_honor:\n",
        "  print(\"you are missing one criteria\")\n",
        "else:\n",
        "  print(\"you cannot go to the field trip\")"
      ],
      "metadata": {
        "colab": {
          "base_uri": "https://localhost:8080/"
        },
        "id": "ApG5upecR-fl",
        "outputId": "bd9e50b5-3066-476b-b6aa-e7e6a0b5bd5f"
      },
      "execution_count": 35,
      "outputs": [
        {
          "name": "stdout",
          "output_type": "stream",
          "text": [
            "you can vote in four years\n",
            "what fruit would you like?apple\n",
            "Apple is in the list\n",
            "Do you have permission to go on the field trip?yes\n",
            "Are you an honor student?yes\n"
          ]
        }
      ]
    },
    {
      "cell_type": "markdown",
      "source": [
        "# Loops"
      ],
      "metadata": {
        "id": "TJESpVKGaT1O"
      }
    },
    {
      "cell_type": "code",
      "source": [
        "## For loops\n",
        "\n",
        "games = [\"roblox\", \"valorant\", \"fortnite\", \"minecraft\"]\n",
        "\n",
        "for game in games:\n",
        "  print(\"I like\",game)\n"
      ],
      "metadata": {
        "colab": {
          "base_uri": "https://localhost:8080/"
        },
        "id": "uiPjg3YhaVte",
        "outputId": "25cf92e8-90f4-4d4d-e985-efc04989cd65"
      },
      "execution_count": 44,
      "outputs": [
        {
          "output_type": "stream",
          "name": "stdout",
          "text": [
            "I like roblox\n",
            "I like valorant\n",
            "I like fortnite\n",
            "I like minecraft\n"
          ]
        }
      ]
    },
    {
      "cell_type": "code",
      "source": [
        "## For loops with range\n",
        "\n",
        "zoo = [\"Elephant\", \"Giraffe\", \"Zebra\", \"Lion\", \"Kangaroo\"]\n",
        "\n",
        "zoo_size = len(zoo)\n",
        "\n",
        "for index_num in range(zoo_size):\n",
        "  print(index_num)\n",
        "  print(zoo[index_num])\n",
        "  print(f\"welcome to space # {index_num + 1}! Here, we have {zoo[index_num]}s.\")"
      ],
      "metadata": {
        "colab": {
          "base_uri": "https://localhost:8080/"
        },
        "id": "RWTR72XDgUvs",
        "outputId": "6e406c3f-4d36-495b-d2ff-068785069199"
      },
      "execution_count": 48,
      "outputs": [
        {
          "output_type": "stream",
          "name": "stdout",
          "text": [
            "0\n",
            "Elephant\n",
            "welcome to space # 1! Here, we have Elephants.\n",
            "1\n",
            "Giraffe\n",
            "welcome to space # 2! Here, we have Giraffes.\n",
            "2\n",
            "Zebra\n",
            "welcome to space # 3! Here, we have Zebras.\n",
            "3\n",
            "Lion\n",
            "welcome to space # 4! Here, we have Lions.\n",
            "4\n",
            "Kangaroo\n",
            "welcome to space # 5! Here, we have Kangaroos.\n"
          ]
        }
      ]
    }
  ]
}