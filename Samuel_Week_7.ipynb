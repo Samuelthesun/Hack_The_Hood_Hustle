{
  "nbformat": 4,
  "nbformat_minor": 0,
  "metadata": {
    "colab": {
      "provenance": [],
      "authorship_tag": "ABX9TyPnvxQPA9aSaTESUGr6vYql",
      "include_colab_link": true
    },
    "kernelspec": {
      "name": "python3",
      "display_name": "Python 3"
    },
    "language_info": {
      "name": "python"
    }
  },
  "cells": [
    {
      "cell_type": "markdown",
      "metadata": {
        "id": "view-in-github",
        "colab_type": "text"
      },
      "source": [
        "<a href=\"https://colab.research.google.com/github/Samuelthesun/Hack_The_Hood_Hustle/blob/main/Samuel_Week_7.ipynb\" target=\"_parent\"><img src=\"https://colab.research.google.com/assets/colab-badge.svg\" alt=\"Open In Colab\"/></a>"
      ]
    },
    {
      "cell_type": "markdown",
      "source": [
        "# Inputs\n",
        "\n",
        "Make sure you are asking the user a clear question\n",
        "Remember that inputs return the value as a string\n",
        "Input is a function\n",
        "\n",
        "combos:\n",
        "\n",
        "int(input (\"___\")) = change to int\n",
        "\n",
        "bool(input(\"___\")) = change to a boolean (True or False) value\n",
        "\n",
        "float(input (\"___\")) = change to a float\n"
      ],
      "metadata": {
        "id": "GW4-NEWgTDiA"
      }
    },
    {
      "cell_type": "code",
      "execution_count": null,
      "metadata": {
        "colab": {
          "base_uri": "https://localhost:8080/"
        },
        "id": "a7H24ThAR1AU",
        "outputId": "aca58968-fa1c-4464-b5d5-810b87b7430d"
      },
      "outputs": [
        {
          "output_type": "stream",
          "name": "stdout",
          "text": [
            "what is your name:samuel\n",
            "samuel\n",
            "pick a number with decimals:2.1\n",
            "2.1\n",
            "pick a whole number:7\n",
            "7\n",
            "cheese or bread:cheese\n",
            "True\n",
            "pick a word:cheese\n",
            "cheese\n",
            "pick a number:2\n",
            "pick another number:7\n",
            "9\n",
            "your number adds up to 9\n"
          ]
        }
      ],
      "source": [
        "#1 Create and print a variable that contains a name using the `input()` function\n",
        "\n",
        "name = input(\"what is your name:\")\n",
        "print(name)\n",
        "#2 Create and print a variable that contains a float using the `input()` function\n",
        "\n",
        "float_num = float(input(\"pick a number with decimals:\"))\n",
        "print(float_num)\n",
        "\n",
        "#3 Create and print a variable that contains an integer using the `input()` function\n",
        "\n",
        "number = int(input(\"pick a whole number:\"))\n",
        "print(number)\n",
        "\n",
        "#4 Create and print a variable that contains a boolean using the `input()` function\n",
        "\n",
        "food_option = bool(input(\"cheese or bread:\"))\n",
        "print(food_option)\n",
        "\n",
        "#5 Create and print a variable that contains a string using the `input()` function\n",
        "\n",
        "my_word = str(input(\"pick a word:\"))\n",
        "print(my_word)\n",
        "#6 Create and print a variable that contains an integer using the `input()` function\n",
        "# and add it to another variable integer\n",
        "\n",
        "number_one = int(input(\"pick a number:\"))\n",
        "number_two = int(input(\"pick another number:\"))\n",
        "number_sum = number_one + number_two\n",
        "print(number_sum)\n",
        "print(f\"your number adds up to {number_sum}\")\n"
      ]
    },
    {
      "cell_type": "markdown",
      "source": [
        "# Conditionals\n",
        "( statements ---> if that statement is true, note that there's a colon (:) at\n",
        "the end,  and if has statements, but else does not, the lines after are indented)\n",
        "\n",
        "if:\n",
        "  (w/e code you want)\n",
        "\n",
        "elif:\n",
        "  (always after if, w/e code you want)\n",
        "  \n",
        "else:\n",
        "  (catch all phrase)"
      ],
      "metadata": {
        "id": "EkKrsXAKZQ3I"
      }
    },
    {
      "cell_type": "code",
      "source": [
        "# # Voting Eligibility Checker\n",
        "\n",
        "# # Step 1: Ask the user to enter their age\n",
        "\n",
        "# age = int(input(\"what is your age:\"))\n",
        "# print(age)\n",
        "# # Step 2: Check if the age is 18 or older\n",
        "\n",
        "# if age >= 18:\n",
        "\n",
        "\n",
        "# #Step 2.1\n",
        "# # If the age is 18 or older, print that the user can vote\n",
        "\n",
        "#   print(\"you are old enough to vote\")\n",
        "\n",
        "# #Step 2.2\n",
        "# #Elif the user will be 18 in two years, tell them they can vote in two years\n",
        "\n",
        "# elif age >= 16:\n",
        "#   print(\"you can vote in two years\")\n",
        "\n",
        "# #Step 2.3\n",
        "# #reminder else\n",
        "\n",
        "#     # If the age is less than 18, print that the user cannot vote yet\n",
        "\n",
        "# else:\n",
        "#   print(\"you cannot vote yet\")\n",
        "\n",
        "age = int(input(\"what is your age:\"))\n",
        "print(age)\n",
        "if age >= 18:\n",
        "  print(\"you are old enough to vote\")\n",
        "elif age >= 16:\n",
        "  print(\"you can vote in two years\")\n",
        "else:\n",
        "  print(\"you cannot vote yet\")"
      ],
      "metadata": {
        "colab": {
          "base_uri": "https://localhost:8080/"
        },
        "id": "UyEuhowmZUE-",
        "outputId": "25509239-087d-46a3-dbc1-486f07481a11"
      },
      "execution_count": null,
      "outputs": [
        {
          "output_type": "stream",
          "name": "stdout",
          "text": [
            "what is your age:17\n",
            "17\n",
            "you can vote in two years\n"
          ]
        }
      ]
    },
    {
      "cell_type": "markdown",
      "source": [
        "# Guess the number activity"
      ],
      "metadata": {
        "id": "Kovajk2JfQKH"
      }
    },
    {
      "cell_type": "code",
      "source": [
        "# #Andrew (the computer) chose a secret_number\n",
        "# secret_number =\n",
        "# #Andrew (aka the computer): Tell the user to guess a number (guess_number)\n",
        "\n",
        "# guess_number =\n",
        "\n",
        "# #Samuel (the user):gave a number\n",
        "# #IF the number wasn't right, Andrew (the computer) said no\n",
        "# # Samuel (the user): guessed again\n",
        "# #Andrew (the computer), when he did give the right answer said 'yes'\n",
        "\n",
        "# #Write your else/if statement:\n",
        "\n",
        "# if guess_number == secret_number:\n",
        "#   print(\"yes\")\n",
        "# else:\n",
        "#   print(\"no\")\n",
        "\n",
        "secret_number = 8\n",
        "# guess_number = int(input(\"guess a number\"))\n",
        "# if guess_number == secret_number:\n",
        "#   print(\"yes\")\n",
        "# else:\n",
        "#   print(\"no\")\n",
        "\n",
        "while guess_number != secret_number:\n",
        "  if guess_number == secret_number:\n",
        "    print(\"yes\")\n",
        "  else:\n",
        "    print(\"no\")\n",
        "guess_number = int(input(\"guess again\"))\n",
        "print(\"yay you got it!!!\")"
      ],
      "metadata": {
        "colab": {
          "base_uri": "https://localhost:8080/"
        },
        "id": "1h_PgKrxfTI7",
        "outputId": "748c65b1-f5b6-418f-9770-2ac26a8df3f1"
      },
      "execution_count": null,
      "outputs": [
        {
          "output_type": "stream",
          "name": "stdout",
          "text": [
            "guess again8\n",
            "yay you got it!!!\n"
          ]
        }
      ]
    },
    {
      "cell_type": "markdown",
      "source": [
        "# Functions!!!\n",
        "\n",
        "\n",
        "What is a function?\n",
        "\n",
        "Function, in python is a reusable code block of code that performs a specific task. They can take inputs, and give outputs.\n",
        "\n",
        "Egs:\n",
        "input()\n",
        "len()\n",
        "int()\n",
        "\n",
        "What is the syntax to create a function?\n",
        "\n",
        "'def' key in the start shows its a function,\n",
        "then the function name (in snake case),\n",
        "followed by parenthesis (),\n",
        "ends with a colon (:)\n",
        "then the line indented code\n",
        "\n",
        "\n",
        "What are parameters / arguments?\n",
        "\n",
        "Variables listed inside the parenthesis, can have multiple\n",
        "\n",
        "What is the syntax to call a function?\n",
        "\n",
        "use function name, and than the parenthesis. If it takes an argument, you place that argument inside of the parenthesis."
      ],
      "metadata": {
        "id": "PfTpjihiiaEZ"
      }
    },
    {
      "cell_type": "code",
      "source": [
        "#Write a greeting function\n",
        "\n",
        "def my_greeting():\n",
        "  print(\"hello\")\n",
        "\n",
        "my_greeting()"
      ],
      "metadata": {
        "colab": {
          "base_uri": "https://localhost:8080/"
        },
        "id": "KmZ7sAWYkFqx",
        "outputId": "557b5810-7270-4674-9df4-35588c414781"
      },
      "execution_count": null,
      "outputs": [
        {
          "output_type": "stream",
          "name": "stdout",
          "text": [
            "hello\n"
          ]
        }
      ]
    },
    {
      "cell_type": "code",
      "source": [
        "#Write a greeting function, but write the argument 'name'.\n",
        "\n",
        "def my_name_greeting(name):\n",
        "  print(f\"hello there {name}\")\n",
        "\n",
        "my_name_greeting(\"Samuel\")"
      ],
      "metadata": {
        "colab": {
          "base_uri": "https://localhost:8080/"
        },
        "id": "qO6qq-lEkm7A",
        "outputId": "4eaabf92-4d08-4f28-edb6-a6519fa6e6eb"
      },
      "execution_count": null,
      "outputs": [
        {
          "output_type": "stream",
          "name": "stdout",
          "text": [
            "hello there Samuel\n"
          ]
        }
      ]
    },
    {
      "cell_type": "code",
      "source": [
        "## Write a greeting function that takes in a list of student names and individually\n",
        "# greets each name\n",
        "\n",
        "class_A = ['Yoline', 'Samuel', 'Andrew']\n",
        "\n",
        "def greet_students(roster):\n",
        "  print(roster)\n",
        "  for student in roster:\n",
        "    print(f\"hello there {student}\")\n",
        "\n",
        "greet_students(class_A)\n",
        "\n",
        "class_B = ['john', 'steve', 'randy']\n",
        "greet_students(class_B)\n"
      ],
      "metadata": {
        "colab": {
          "base_uri": "https://localhost:8080/"
        },
        "id": "aqyzKqjqlm3h",
        "outputId": "76329913-c679-436e-ccb6-160709ff3afc"
      },
      "execution_count": null,
      "outputs": [
        {
          "output_type": "stream",
          "name": "stdout",
          "text": [
            "['Yoline', 'Samuel', 'Andrew']\n",
            "hello there Yoline\n",
            "hello there Samuel\n",
            "hello there Andrew\n",
            "['john', 'steve', 'randy']\n",
            "hello there john\n",
            "hello there steve\n",
            "hello there randy\n"
          ]
        }
      ]
    }
  ]
}