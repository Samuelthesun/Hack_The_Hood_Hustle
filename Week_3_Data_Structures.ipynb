{
  "nbformat": 4,
  "nbformat_minor": 0,
  "metadata": {
    "colab": {
      "provenance": [],
      "authorship_tag": "ABX9TyNUZDRrKF51NI/mikhocTio",
      "include_colab_link": true
    },
    "kernelspec": {
      "name": "python3",
      "display_name": "Python 3"
    },
    "language_info": {
      "name": "python"
    }
  },
  "cells": [
    {
      "cell_type": "markdown",
      "metadata": {
        "id": "view-in-github",
        "colab_type": "text"
      },
      "source": [
        "<a href=\"https://colab.research.google.com/github/Samuelthesun/Hack_The_Hood_Hustle/blob/main/Week_3_Data_Structures.ipynb\" target=\"_parent\"><img src=\"https://colab.research.google.com/assets/colab-badge.svg\" alt=\"Open In Colab\"/></a>"
      ]
    },
    {
      "cell_type": "code",
      "execution_count": null,
      "metadata": {
        "id": "YbgA25j_Lh5k"
      },
      "outputs": [],
      "source": []
    },
    {
      "cell_type": "markdown",
      "source": [
        "# Build a dictionary\n",
        "### This dictionary will hold list as the values"
      ],
      "metadata": {
        "id": "CeWQtFoILyc9"
      }
    },
    {
      "cell_type": "code",
      "source": [
        "# 1. Make the dictionary\n",
        "food_preferences ={\n",
        "    \"samuel\" : {\n",
        "        \"likes\":[\"chicken\",\"noodles\",\"fruits\"],\n",
        "        \"dislikes\":[\"coconut\",\"eggplant\",],\n",
        "    }\n",
        "}\n",
        "# 2. go over how to access deeply nested data\n",
        "\n",
        "print(\"Here is the second thing I like to eat\")\n",
        "print(food_preferences[\"samuel\"][\"likes\"][1])"
      ],
      "metadata": {
        "colab": {
          "base_uri": "https://localhost:8080/"
        },
        "id": "ILFLjKPDMD7H",
        "outputId": "d316f96a-f02e-49b4-9111-f3a550f3e16d"
      },
      "execution_count": 2,
      "outputs": [
        {
          "output_type": "stream",
          "name": "stdout",
          "text": [
            "Here is the second thing I like to eat\n",
            "noodles\n"
          ]
        }
      ]
    },
    {
      "cell_type": "code",
      "source": [
        "# 1. Make the dictionary\n",
        "food_preferences = {\n",
        "    \"yoline\" : {\n",
        "      \"likes\": [\"pizza\", \"ramen\", \"pies\"],\n",
        "      \"dislikes\": [\"okra\", \"eggplant\"],\n",
        "    },\n",
        "    \"andrew\": {\n",
        "        \"likes\": [\"tofu\", \"strawberries\", \"cheesecake\"],\n",
        "        \"dislikes\" : [\"cilantro\", \"onions\"]\n",
        "    },\n",
        "    \"samuel\": {\n",
        "        \"likes\": [\"chicken\", \"noodles\", \"fruits\"],\n",
        "        \"dislikes\": [\"coconut\", \"eggplant\"]\n",
        "    }\n",
        "}\n",
        "print(food_preferences)\n",
        "# 2. go over how to access deeply nested data\n",
        "\n",
        "print(\"Here is the second thing I like to eat\")\n",
        "print(food_preferences[\"yoline\"][\"likes\"][1])\n",
        "# 3. yoline likes mac and cheese, add that to her list\n",
        "# lets use append\n",
        "food_preferences[\"yoline\"][\"likes\"].append(\"mac and cheese\")\n",
        "print(\"new list: \")\n",
        "print(food_preferences[\"yoline\"][\"likes\"])\n",
        "#4. Yoline is okay with okra, lets use pop\n",
        "\n",
        "food_preferences[\"yoline\"][\"dislikes\"].pop(0)\n",
        "print(\"new list: \")\n",
        "print(food_preferences[\"yoline\"][\"dislikes\"])"
      ],
      "metadata": {
        "colab": {
          "base_uri": "https://localhost:8080/"
        },
        "id": "Lyva875qQhtL",
        "outputId": "ea48a112-83b7-43bf-f446-3da87e7e5493"
      },
      "execution_count": 23,
      "outputs": [
        {
          "output_type": "stream",
          "name": "stdout",
          "text": [
            "{'yoline': {'likes': ['pizza', 'ramen', 'pies'], 'dislikes': ['okra', 'eggplant']}, 'andrew': {'likes': ['tofu', 'strawberries', 'cheesecake'], 'dislikes': ['cilantro', 'onions']}, 'samuel': {'likes': ['chicken', 'noodles', 'fruits'], 'dislikes': ['coconut', 'eggplant']}}\n",
            "Here is the second thing I like to eat\n",
            "ramen\n",
            "new list: \n",
            "['pizza', 'ramen', 'pies', 'mac and cheese']\n",
            "new list: \n",
            "['eggplant']\n"
          ]
        }
      ]
    },
    {
      "cell_type": "markdown",
      "source": [
        "# Independent Work - try it yourself!"
      ],
      "metadata": {
        "id": "kpijPZPlUIva"
      }
    },
    {
      "cell_type": "code",
      "source": [
        "meal_options = {\n",
        "    \"breakfast\": {\n",
        "        \"food\": [\"pancakes\", \"waffles\", \"fruit\"],\n",
        "        \"drinks\": [\"coffee\", \"black tea\", \"smoothie\", \"water\"]\n",
        "    },\n",
        "    \"lunch\": {\n",
        "        \"food\": [\"sandwich\", \"dumplings\"],\n",
        "        \"drinks\": [\"water\", \"green tea\", \"soda\"]\n",
        "    },\n",
        "    \"dinner\": {\n",
        "        \"food\": [\"ramen\", \"risotto\"],\n",
        "        \"drinks\": [\"water\", \"chamomile tea\"]\n",
        "    }\n",
        "}\n",
        "\n",
        "# 1. print all the meal options\n",
        "print(\"here are the meal options: \")\n",
        "print(meal_options)\n",
        "\n",
        "# 2. print only the breakfast options\n",
        "print(\"here are the breakfast options: \")\n",
        "print(meal_options[\"breakfast\"])\n",
        "\n",
        "# 3. print the dinner food options\n",
        "print(\"here are the dinner options: \")\n",
        "print(meal_options[\"dinner\"][\"food\"])\n",
        "\n",
        "# 4. print the lunch drinks options\n",
        "\n",
        "print(meal_options[\"lunch\"][\"drinks\"])\n",
        "\n",
        "# 5. print waffles (by accessing the dictionaries and list)\n",
        "\n",
        "print(meal_options[\"breakfast\"][\"food\"][1])\n",
        "\n",
        "# 6. print dumplings (by accessing the dictionaries and list)\n",
        "\n",
        "print(meal_options[\"lunch\"][\"food\"][1])\n",
        "\n",
        "# 7. print chamomile tea (by accessing the dictionaries and list)\n",
        "\n",
        "print(meal_options[\"dinner\"][\"drinks\"][1])\n",
        "\n",
        "# 8. remove green tea from the lunch drinks\n",
        "\n",
        "meal_options[\"lunch\"][\"drinks\"].pop(1)\n",
        "\n",
        "# 9. add pizza to dinner foods\n",
        "\n",
        "meal_options[\"dinner\"][\"food\"].append(\"pizza\")\n",
        "print(meal_options[\"dinner\"][\"food\"])"
      ],
      "metadata": {
        "colab": {
          "base_uri": "https://localhost:8080/"
        },
        "id": "KES3sSkuUp5Q",
        "outputId": "2bc6fec7-205c-4da7-8846-f67da7f44524"
      },
      "execution_count": 42,
      "outputs": [
        {
          "output_type": "stream",
          "name": "stdout",
          "text": [
            "here are the meal options: \n",
            "{'breakfast': {'food': ['pancakes', 'waffles', 'fruit'], 'drinks': ['coffee', 'black tea', 'smoothie', 'water']}, 'lunch': {'food': ['sandwich', 'dumplings'], 'drinks': ['water', 'green tea', 'soda']}, 'dinner': {'food': ['ramen', 'risotto'], 'drinks': ['water', 'chamomile tea']}}\n",
            "here are the breakfast options: \n",
            "{'food': ['pancakes', 'waffles', 'fruit'], 'drinks': ['coffee', 'black tea', 'smoothie', 'water']}\n",
            "here are the dinner options: \n",
            "['ramen', 'risotto']\n",
            "['water', 'green tea', 'soda']\n",
            "waffles\n",
            "dumplings\n",
            "chamomile tea\n",
            "['ramen', 'risotto', 'pizza']\n"
          ]
        }
      ]
    },
    {
      "cell_type": "code",
      "source": [],
      "metadata": {
        "id": "ShBC3RyuU6MT"
      },
      "execution_count": null,
      "outputs": []
    }
  ]
}