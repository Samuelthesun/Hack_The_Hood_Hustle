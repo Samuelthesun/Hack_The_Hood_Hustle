{
  "nbformat": 4,
  "nbformat_minor": 0,
  "metadata": {
    "colab": {
      "provenance": [],
      "authorship_tag": "ABX9TyOyPUx+ZCSxHBwu39o3Rd8m",
      "include_colab_link": true
    },
    "kernelspec": {
      "name": "python3",
      "display_name": "Python 3"
    },
    "language_info": {
      "name": "python"
    }
  },
  "cells": [
    {
      "cell_type": "markdown",
      "metadata": {
        "id": "view-in-github",
        "colab_type": "text"
      },
      "source": [
        "<a href=\"https://colab.research.google.com/github/Samuelthesun/Hack_The_Hood_Hustle/blob/main/Samuel_Week_6_review.ipynb\" target=\"_parent\"><img src=\"https://colab.research.google.com/assets/colab-badge.svg\" alt=\"Open In Colab\"/></a>"
      ]
    },
    {
      "cell_type": "markdown",
      "source": [
        "# Iterations"
      ],
      "metadata": {
        "id": "gJh3S8s1PrvU"
      }
    },
    {
      "cell_type": "markdown",
      "source": [
        "### Definitions"
      ],
      "metadata": {
        "id": "9ef2XyepR8EL"
      }
    },
    {
      "cell_type": "code",
      "execution_count": null,
      "metadata": {
        "id": "dVrfuXH0PDDE"
      },
      "outputs": [],
      "source": [
        "# # cmd + '?' key can comment out a line\n",
        "\n",
        "# What is iteration?\n",
        "# # Iteration is a repeating proccess or a loop.\n",
        "# # A loop is a sequence of intructions that is continually\n",
        "# # repeated untill a certain condition is reached.\n",
        "\n",
        "# What is a while loop?\n",
        "# a while loop is for repeating statements until a condition is met.\n",
        "# What is a for loop?\n",
        "# a for loop is for repeating numbers or strings. (performs identical actions for each item)\n"
      ]
    },
    {
      "cell_type": "markdown",
      "source": [
        "### While loop or for loop?"
      ],
      "metadata": {
        "id": "ZfmKq5hHSDR9"
      }
    },
    {
      "cell_type": "code",
      "source": [
        "# 1. Print out each name on a student roster\n",
        "\n",
        "roster = ['Andrew', 'Samuel', 'Yoline']\n",
        "# use for loop\n",
        "\n",
        "for name in roster:\n",
        "  print(name)\n",
        "\n",
        "# 2 Count from 1 to 100\n",
        "\n",
        "# counter = 1\n",
        "# while counter <= 100:\n",
        "#   print(counter)\n",
        "#   counter+= 1\n",
        "\n",
        "#3 Have a user guess letters until they have figured out a secret word\n",
        "\n",
        "secret_word = \"tuna\"\n",
        "\n",
        "guess_word = \"\"\n",
        "\n",
        "# char stands for character\n",
        "for letter in secret_word:\n",
        "  guess_char = \"\"\n",
        "  while guess_char != letter:\n",
        "\n",
        "    guess_char = input(\"please guess a letter: \")\n",
        "\n",
        "    if guess_char == letter:\n",
        "      print(\"you. guessed right\")\n",
        "    else:\n",
        "      print(\"nope, you guessed wrong\")\n",
        "  guess_word += guess_char\n",
        "  print('guess word', guess_word)\n",
        "if guess_word == secret_word:\n",
        "  print(f\"correct the secret word is {secret_word}\")\n",
        "\n",
        "\n"
      ],
      "metadata": {
        "colab": {
          "base_uri": "https://localhost:8080/"
        },
        "id": "7GmiUqjsSG7E",
        "outputId": "c9849923-7f87-414a-e567-78f71698af49"
      },
      "execution_count": null,
      "outputs": [
        {
          "output_type": "stream",
          "name": "stdout",
          "text": [
            "Andrew\n",
            "Samuel\n",
            "Yoline\n",
            "please guess a letter: t\n",
            "you. guessed right\n",
            "guess word t\n",
            "please guess a letter: u\n",
            "you. guessed right\n",
            "guess word tu\n",
            "please guess a letter: n\n",
            "you. guessed right\n",
            "guess word tun\n",
            "please guess a letter: a\n",
            "you. guessed right\n",
            "guess word tuna\n",
            "correct the secret word is tuna\n",
            "Please guess a letter: t\n",
            "You guessed right!\n",
            "GUESS WORD t\n",
            "Please guess a letter: u\n",
            "You guessed right!\n",
            "GUESS WORD tu\n",
            "Please guess a letter: n\n",
            "You guessed right!\n",
            "GUESS WORD tun\n",
            "Please guess a letter: a\n",
            "You guessed right!\n",
            "GUESS WORD tuna\n",
            "correct! the secret_word is tuna\n"
          ]
        }
      ]
    },
    {
      "cell_type": "markdown",
      "source": [
        "### testing"
      ],
      "metadata": {
        "id": "PdEO9gRZScV4"
      }
    },
    {
      "cell_type": "code",
      "source": [
        "secret_word = \"cheese\"\n",
        "\n",
        "guess_word = \"\"\n",
        "\n",
        "#char stands for character\n",
        "\n",
        "\n",
        "# first, figure out the first letter (t)\n",
        "# if user does not guess the first letter, keep asking\n",
        "# ONLY when they do guess that first letter, have them guess the second letter\n",
        "\n",
        "for letter in secret_word: #t\n",
        "  guess_char = \"\"\n",
        "  while guess_char != letter:\n",
        "    guess_char = input(\"Please guess a letter: \")\n",
        "    if guess_char == letter:\n",
        "      print('You guessed right!')\n",
        "    else:\n",
        "      print('nope, that is not it')\n",
        "\n",
        "\n",
        "  guess_word += guess_char\n",
        "  print('GUESS WORD', guess_word)\n",
        "\n",
        "if guess_word == secret_word:\n",
        "  print(f\"correct! the secret_word is {secret_word}\")"
      ],
      "metadata": {
        "colab": {
          "base_uri": "https://localhost:8080/",
          "height": 365
        },
        "id": "F8xA-mNNfvOV",
        "outputId": "0ea06346-4129-44e2-b722-597c4890e88a"
      },
      "execution_count": null,
      "outputs": [
        {
          "output_type": "error",
          "ename": "KeyboardInterrupt",
          "evalue": "Interrupted by user",
          "traceback": [
            "\u001b[0;31m---------------------------------------------------------------------------\u001b[0m",
            "\u001b[0;31mKeyboardInterrupt\u001b[0m                         Traceback (most recent call last)",
            "\u001b[0;32m<ipython-input-39-aed17516c816>\u001b[0m in \u001b[0;36m<cell line: 12>\u001b[0;34m()\u001b[0m\n\u001b[1;32m     13\u001b[0m   \u001b[0mguess_char\u001b[0m \u001b[0;34m=\u001b[0m \u001b[0;34m\"\"\u001b[0m\u001b[0;34m\u001b[0m\u001b[0;34m\u001b[0m\u001b[0m\n\u001b[1;32m     14\u001b[0m   \u001b[0;32mwhile\u001b[0m \u001b[0mguess_char\u001b[0m \u001b[0;34m!=\u001b[0m \u001b[0mletter\u001b[0m\u001b[0;34m:\u001b[0m\u001b[0;34m\u001b[0m\u001b[0;34m\u001b[0m\u001b[0m\n\u001b[0;32m---> 15\u001b[0;31m     \u001b[0mguess_char\u001b[0m \u001b[0;34m=\u001b[0m \u001b[0minput\u001b[0m\u001b[0;34m(\u001b[0m\u001b[0;34m\"Please guess a letter: \"\u001b[0m\u001b[0;34m)\u001b[0m\u001b[0;34m\u001b[0m\u001b[0;34m\u001b[0m\u001b[0m\n\u001b[0m\u001b[1;32m     16\u001b[0m     \u001b[0;32mif\u001b[0m \u001b[0mguess_char\u001b[0m \u001b[0;34m==\u001b[0m \u001b[0mletter\u001b[0m\u001b[0;34m:\u001b[0m\u001b[0;34m\u001b[0m\u001b[0;34m\u001b[0m\u001b[0m\n\u001b[1;32m     17\u001b[0m       \u001b[0mprint\u001b[0m\u001b[0;34m(\u001b[0m\u001b[0;34m'You guessed right!'\u001b[0m\u001b[0;34m)\u001b[0m\u001b[0;34m\u001b[0m\u001b[0;34m\u001b[0m\u001b[0m\n",
            "\u001b[0;32m/usr/local/lib/python3.10/dist-packages/ipykernel/kernelbase.py\u001b[0m in \u001b[0;36mraw_input\u001b[0;34m(self, prompt)\u001b[0m\n\u001b[1;32m    849\u001b[0m                 \u001b[0;34m\"raw_input was called, but this frontend does not support input requests.\"\u001b[0m\u001b[0;34m\u001b[0m\u001b[0;34m\u001b[0m\u001b[0m\n\u001b[1;32m    850\u001b[0m             )\n\u001b[0;32m--> 851\u001b[0;31m         return self._input_request(str(prompt),\n\u001b[0m\u001b[1;32m    852\u001b[0m             \u001b[0mself\u001b[0m\u001b[0;34m.\u001b[0m\u001b[0m_parent_ident\u001b[0m\u001b[0;34m,\u001b[0m\u001b[0;34m\u001b[0m\u001b[0;34m\u001b[0m\u001b[0m\n\u001b[1;32m    853\u001b[0m             \u001b[0mself\u001b[0m\u001b[0;34m.\u001b[0m\u001b[0m_parent_header\u001b[0m\u001b[0;34m,\u001b[0m\u001b[0;34m\u001b[0m\u001b[0;34m\u001b[0m\u001b[0m\n",
            "\u001b[0;32m/usr/local/lib/python3.10/dist-packages/ipykernel/kernelbase.py\u001b[0m in \u001b[0;36m_input_request\u001b[0;34m(self, prompt, ident, parent, password)\u001b[0m\n\u001b[1;32m    893\u001b[0m             \u001b[0;32mexcept\u001b[0m \u001b[0mKeyboardInterrupt\u001b[0m\u001b[0;34m:\u001b[0m\u001b[0;34m\u001b[0m\u001b[0;34m\u001b[0m\u001b[0m\n\u001b[1;32m    894\u001b[0m                 \u001b[0;31m# re-raise KeyboardInterrupt, to truncate traceback\u001b[0m\u001b[0;34m\u001b[0m\u001b[0;34m\u001b[0m\u001b[0m\n\u001b[0;32m--> 895\u001b[0;31m                 \u001b[0;32mraise\u001b[0m \u001b[0mKeyboardInterrupt\u001b[0m\u001b[0;34m(\u001b[0m\u001b[0;34m\"Interrupted by user\"\u001b[0m\u001b[0;34m)\u001b[0m \u001b[0;32mfrom\u001b[0m \u001b[0;32mNone\u001b[0m\u001b[0;34m\u001b[0m\u001b[0;34m\u001b[0m\u001b[0m\n\u001b[0m\u001b[1;32m    896\u001b[0m             \u001b[0;32mexcept\u001b[0m \u001b[0mException\u001b[0m \u001b[0;32mas\u001b[0m \u001b[0me\u001b[0m\u001b[0;34m:\u001b[0m\u001b[0;34m\u001b[0m\u001b[0;34m\u001b[0m\u001b[0m\n\u001b[1;32m    897\u001b[0m                 \u001b[0mself\u001b[0m\u001b[0;34m.\u001b[0m\u001b[0mlog\u001b[0m\u001b[0;34m.\u001b[0m\u001b[0mwarning\u001b[0m\u001b[0;34m(\u001b[0m\u001b[0;34m\"Invalid Message:\"\u001b[0m\u001b[0;34m,\u001b[0m \u001b[0mexc_info\u001b[0m\u001b[0;34m=\u001b[0m\u001b[0;32mTrue\u001b[0m\u001b[0;34m)\u001b[0m\u001b[0;34m\u001b[0m\u001b[0;34m\u001b[0m\u001b[0m\n",
            "\u001b[0;31mKeyboardInterrupt\u001b[0m: Interrupted by user"
          ]
        }
      ]
    },
    {
      "cell_type": "markdown",
      "source": [
        "# Functions"
      ],
      "metadata": {
        "id": "xUJA7tdIgBQl"
      }
    },
    {
      "cell_type": "code",
      "source": [
        "# A function is a block of organized, reusable code that performs a single, related action.\n",
        "# Functions provide better modularity for your application\n",
        "# and a high degree of code reusability.\n",
        "\n",
        "# print()\n",
        "# input()\n",
        "# len()\n",
        "# int()\n",
        "\n",
        "\n",
        "# def my_function_title(function_argument):\n",
        "#   logic that invoolved function_argument\n",
        "\n",
        "def welcome_student(name):\n",
        "  print(f\"Hey {name}, welcome!\")\n",
        "\n",
        "\n",
        "for index in range(3):\n",
        "  name = input(\"What is the student's name? \")\n",
        "  welcome_student(name)\n",
        "\n",
        "## if the # has NO remainder after dividing by 2\n",
        "\n",
        "numbers = [1, 2, 3, 4, 5]\n",
        "\n",
        "def is_even(the_number):\n",
        "  if the_number % 2 == 0:\n",
        "    return true\n",
        "  else:\n",
        "    return false\n",
        "\n",
        "for number in numbers:\n",
        "  if is_even(number) == True:\n",
        "    print(f\"{number} is even\")\n",
        "  if is_even(number) == True and number == 4:\n",
        "    print('lucky winner 4!!!')\n",
        "  else:\n",
        "    print(f\"{number} is odd\")\n",
        "\n"
      ],
      "metadata": {
        "id": "LLskKKG1gDkA"
      },
      "execution_count": null,
      "outputs": []
    }
  ]
}