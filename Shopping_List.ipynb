{
  "nbformat": 4,
  "nbformat_minor": 0,
  "metadata": {
    "colab": {
      "provenance": [],
      "authorship_tag": "ABX9TyNvcWXA6iNXfireK4QwpAw2",
      "include_colab_link": true
    },
    "kernelspec": {
      "name": "python3",
      "display_name": "Python 3"
    },
    "language_info": {
      "name": "python"
    }
  },
  "cells": [
    {
      "cell_type": "markdown",
      "metadata": {
        "id": "view-in-github",
        "colab_type": "text"
      },
      "source": [
        "<a href=\"https://colab.research.google.com/github/Samuelthesun/Hack_The_Hood_Hustle/blob/main/Shopping_List.ipynb\" target=\"_parent\"><img src=\"https://colab.research.google.com/assets/colab-badge.svg\" alt=\"Open In Colab\"/></a>"
      ]
    },
    {
      "cell_type": "markdown",
      "source": [
        "# Shopping Cart\n",
        "The application will ask the user for items and then add them to a container which we call cart.  Then a process will check if the item entered is on the cart and if it is, the item will not be placed on that cart.\n",
        "what do I want?\n",
        "I want to create a shopping cart application.\n",
        "what do I need?\n",
        "- a place to hold items.\n",
        "\n",
        "## Part I\n",
        "1. What do I have?\n",
        "- I have the variables I want to use.\n",
        "- I have defined a way to check if something is already on my cart.\n",
        "- I have a way to ask the user for data.\n",
        "2. what do I want?\n",
        "I want to start the process of building a shopping cart.\n",
        "\n",
        "3. what do I need?\n",
        "- a place to hold items.\n",
        "    \n",
        "    `cart`\n",
        "\n",
        "a way to add items to our list\n",
        "    \n",
        "    `cart.append()`\n",
        "a way to print the items in our list\n",
        "    \n",
        "    `print(\"\"\"\"\"\"\" STUFF \"\"\"\"\"\"\")`\n",
        "\n",
        "\n",
        "a way to check if an item is already on that list. (optional)\n",
        "    `if` item is on the cart\n",
        "    `then`   do something\n",
        "    `else`   do something else\n",
        "\n",
        "The application will ask the user for items and then add them to a list which we call cart.  then a process will check if the item entered is on the list and if it is, the item will not be placed on that list.\n",
        "\n",
        "### Part I\n",
        "I will implement a list to store and access our cart.\n",
        "### Part II\n",
        "I will implement a Dictionary to store and access our cart.\n",
        "### Part III\n",
        "I will implement a loop to ask the user to choose to continue or not use the application.\n",
        "### Part IV\n",
        "I will implement a system to check and add up all prices for all items in our cart.\n",
        "\n"
      ],
      "metadata": {
        "id": "NiucWXte28Yh"
      }
    },
    {
      "cell_type": "markdown",
      "source": [
        "#PART 1"
      ],
      "metadata": {
        "id": "2-XxCkKP3W4g"
      }
    },
    {
      "cell_type": "code",
      "source": [
        "cart = []\n"
      ],
      "metadata": {
        "id": "D15PYLfQ4fDO"
      },
      "execution_count": null,
      "outputs": []
    },
    {
      "cell_type": "code",
      "source": [
        "cart.append('tacos')\n",
        "#TODO: Commant this line\n",
        "\n",
        "print(f\"The items in your cart are: {cart}\")\n",
        "#TODO: Commant this line"
      ],
      "metadata": {
        "colab": {
          "base_uri": "https://localhost:8080/"
        },
        "id": "HnTPdS5G4ZNV",
        "outputId": "55ccb53c-b288-400c-96a8-e6cf0e493235"
      },
      "execution_count": null,
      "outputs": [
        {
          "output_type": "stream",
          "name": "stdout",
          "text": [
            "The items in your cart are: ['tacos']\n"
          ]
        }
      ]
    },
    {
      "cell_type": "code",
      "source": [
        "item = input('What would you like to add to the shopping cart? ')\n",
        "#TODO: Commant this line\n",
        "cart.append(item)\n",
        "#TODO: Commant this line\n",
        "print(f\"The items in your cart are: {cart}\")\n",
        "#TODO: Commant this line"
      ],
      "metadata": {
        "colab": {
          "base_uri": "https://localhost:8080/"
        },
        "id": "talDrTWh4ZKc",
        "outputId": "b6e409c9-0035-46c5-c10b-837e1635e9a1"
      },
      "execution_count": null,
      "outputs": [
        {
          "output_type": "stream",
          "name": "stdout",
          "text": [
            "What would you like to add to the shopping cart? chips\n",
            "The items in your cart are: ['tacos', 'chips']\n"
          ]
        }
      ]
    },
    {
      "cell_type": "code",
      "source": [
        "print(f\"The items in your cart are: {cart}\")\n",
        "item = input('What would you like to add to the shopping cart? ')\n",
        "#TODO: Commant this line\n",
        "'''\n",
        "`if` item is on the cart\n",
        "`then`   do something\n",
        "`else`   do somethign else\n",
        "'''\n",
        "if item in cart:\n",
        "    print(f'{item} is already on the cart.')\n",
        "else:\n",
        "    cart.append(item)\n",
        "    #TODO: Commant this line\n",
        "print(f\"The items in your cart are: {cart}\")\n",
        "#TODO: Commant this line"
      ],
      "metadata": {
        "colab": {
          "base_uri": "https://localhost:8080/"
        },
        "id": "B914jfvX4ZGw",
        "outputId": "84b37a3e-0c10-4de1-ca4b-ce6bc0955979"
      },
      "execution_count": null,
      "outputs": [
        {
          "output_type": "stream",
          "name": "stdout",
          "text": [
            "The items in your cart are: ['tacos', 'chips']\n",
            "What would you like to add to the shopping cart? icecream\n",
            "The items in your cart are: ['tacos', 'chips', 'icecream']\n"
          ]
        }
      ]
    },
    {
      "cell_type": "code",
      "source": [
        "print(f\"The items in your cart are: {cart}\")\n",
        "item = input('What would you like to add to the shopping cart? ')\n",
        "#TODO: Commant this line\n",
        "'''\n",
        "`if` item is on the cart\n",
        "`then`   do something\n",
        "`else`   do somethign else\n",
        "'''\n",
        "if item in cart:\n",
        "    #TODO: Commant this line\n",
        "    print(f'{item} is already on the cart.')\n",
        "    #TODO: Commant this line\n",
        "else:\n",
        "#TODO: Commant this line\n",
        "    cart.append(item)\n",
        "    #TODO: Commant this line\n",
        "print(f\"The items in your cart are: {cart}\")\n",
        "#TODO: Commant this line"
      ],
      "metadata": {
        "colab": {
          "base_uri": "https://localhost:8080/"
        },
        "id": "S62r02u_4ZDR",
        "outputId": "6493c992-9c35-47d2-d647-7366ef3a8b2a"
      },
      "execution_count": null,
      "outputs": [
        {
          "output_type": "stream",
          "name": "stdout",
          "text": [
            "The items in your cart are: ['tacos', 'chips', 'icecream']\n",
            "What would you like to add to the shopping cart? apples\n",
            "The items in your cart are: ['tacos', 'chips', 'icecream', 'apples']\n"
          ]
        }
      ]
    },
    {
      "cell_type": "markdown",
      "source": [
        "# PART 2"
      ],
      "metadata": {
        "id": "hhrw9Hpz4ZBX"
      }
    },
    {
      "cell_type": "code",
      "source": [
        "cart2 = {}"
      ],
      "metadata": {
        "id": "_IGx-8e7AXCi"
      },
      "execution_count": 27,
      "outputs": []
    },
    {
      "cell_type": "code",
      "source": [
        "# TODO: comment this code block\n",
        "# Tell me what I am not doing in this block?\n",
        "\n",
        "item2 = input('What would you like to add to the shopping cart: ')\n",
        "value2 = input(f'How many {item2} do you want: ')\n",
        "\n",
        "if item2 in cart2:\n",
        "    print(f'{item2} is already on the cart.')\n",
        "\n",
        "else:\n",
        "    cart2[item2] = value2\n",
        "\n",
        "print(f\"The items in your cart are: {cart2}\")"
      ],
      "metadata": {
        "id": "1zMzL2hG4Y7H",
        "colab": {
          "base_uri": "https://localhost:8080/"
        },
        "outputId": "171c1b8f-ce62-4d68-ba4e-e6819c1d7ff0"
      },
      "execution_count": 29,
      "outputs": [
        {
          "output_type": "stream",
          "name": "stdout",
          "text": [
            "What would you like to add to the shopping cart: eggs\n",
            "How many eggs do you want: 3\n",
            "The items in your cart are: {'eggs': '3'}\n"
          ]
        }
      ]
    },
    {
      "cell_type": "code",
      "source": [
        "cart2"
      ],
      "metadata": {
        "id": "Z0ASmLp64Y3h",
        "colab": {
          "base_uri": "https://localhost:8080/"
        },
        "outputId": "31e2a10d-213d-44ee-ee9c-8dd900c24100"
      },
      "execution_count": 17,
      "outputs": [
        {
          "output_type": "execute_result",
          "data": {
            "text/plain": [
              "{'apples ': '3'}"
            ]
          },
          "metadata": {},
          "execution_count": 17
        }
      ]
    },
    {
      "cell_type": "markdown",
      "source": [
        "#PART III"
      ],
      "metadata": {
        "id": "UruXlK0b4Y02"
      }
    },
    {
      "cell_type": "code",
      "source": [
        "cart3={}"
      ],
      "metadata": {
        "id": "fcCIgGg24Yx-"
      },
      "execution_count": 24,
      "outputs": []
    },
    {
      "cell_type": "code",
      "source": [
        "# TODO: comment this code block\n",
        "# Tell me what I am not doing in this block?\n",
        "\n",
        "choice = 'y'\n",
        "\n",
        "while choice == 'y':\n",
        "    question = input('Would you like use the shopping cart application? (y/n): ')\n",
        "\n",
        "    if question == 'y':\n",
        "        item3 = input('What would you like to add to the shopping cart')\n",
        "        value3 = input(f'How many {item3} do you want: ')\n",
        "        cart3[item3] = value3\n",
        "\n",
        "    else:\n",
        "        print('Thank you for using our application')\n",
        "        break\n",
        "\n",
        "\n",
        "print(f\"The items in your cart are: {cart3}\")"
      ],
      "metadata": {
        "id": "fWjweEh44Yv0",
        "colab": {
          "base_uri": "https://localhost:8080/"
        },
        "outputId": "aea84dd1-eaae-4d96-ec05-148fe7cbdc72"
      },
      "execution_count": 25,
      "outputs": [
        {
          "output_type": "stream",
          "name": "stdout",
          "text": [
            "Would you like use the shopping cart application? (y/n): n\n",
            "Thank you for using our application\n",
            "The items in your cart are: {}\n"
          ]
        }
      ]
    },
    {
      "cell_type": "code",
      "source": [],
      "metadata": {
        "id": "VlBCa9lT4YtC"
      },
      "execution_count": null,
      "outputs": []
    }
  ]
}